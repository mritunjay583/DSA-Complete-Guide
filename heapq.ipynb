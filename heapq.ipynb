{
 "cells": [
  {
   "cell_type": "markdown",
   "id": "4b01160c",
   "metadata": {},
   "source": [
    "#### 🔍 What is heapq?\n",
    "\n",
    "Python's heapq implements a min-heap using a binary heap under the hood stored in a list.\n",
    "\n",
    "It allows you to:\n",
    "- Push and pop elements in O(log n)\n",
    "- Get the smallest element in O(1)\n",
    "- Maintain a sorted structure efficiently"
   ]
  },
  {
   "cell_type": "markdown",
   "id": "8e59321d",
   "metadata": {},
   "source": [
    "| Method                          | Description                                     | Time Complexity | Use Case Examples                     |\n",
    "| ------------------------------- | ----------------------------------------------- | --------------- | ------------------------------------- |\n",
    "| `heapq.heapify(list)`           | Convert list to a heap (in-place)               | `O(n)`          | Init heap for top-K, greedy problems  |\n",
    "| `heapq.heappush(heap, item)`    | Push item into heap                             | `O(log n)`      | Maintain heap invariant during insert |\n",
    "| `heapq.heappop(heap)`           | Pop smallest item from heap                     | `O(log n)`      | Extract min (Dijkstra’s, Huffman)     |\n",
    "| `heapq.heappushpop(heap, item)` | Push then pop smallest                          | `O(log n)`      | Efficient top-K filtering             |\n",
    "| `heapq.heapreplace(heap, item)` | Pop then push (always)                          | `O(log n)`      | Replace root without resizing heap    |\n",
    "| `heapq.nlargest(k, iterable)`   | Get `k` largest elements (internally heapifies) | `O(n log k)`    | Top-K elements (frequencies, scores)  |\n",
    "| `heapq.nsmallest(k, iterable)`  | Get `k` smallest elements                       | `O(n log k)`    | Opposite of above                     |\n"
   ]
  },
  {
   "cell_type": "markdown",
   "id": "f451bc48",
   "metadata": {},
   "source": [
    "⚡ Heap is Always a Min-Heap\n",
    "To simulate a max-heap, just invert the sign of values:"
   ]
  },
  {
   "cell_type": "code",
   "execution_count": 3,
   "id": "c84dd94e",
   "metadata": {},
   "outputs": [
    {
     "name": "stdout",
     "output_type": "stream",
     "text": [
      "4\n"
     ]
    }
   ],
   "source": [
    "import heapq\n",
    "\n",
    "nums = [3, 1, 4]\n",
    "max_heap = []\n",
    "for num in nums:\n",
    "    heapq.heappush(max_heap, -num)\n",
    "\n",
    "max_val = -heapq.heappop(max_heap)\n",
    "print(max_val)"
   ]
  },
  {
   "cell_type": "markdown",
   "id": "8d974908",
   "metadata": {},
   "source": [
    "🧠 When to Use heapq in DSA\n",
    "✅ 1. Top K Elements\n",
    "- Problem: Return k largest/smallest elements.\n",
    "\n",
    "- Functions: heapq.nlargest(), or use a size k heap manually.\n",
    "\n",
    "- Example: Leetcode 215 (Kth Largest Element)\n",
    "\n",
    "✅ 2. Dijkstra’s Shortest Path\n",
    "- Use a min-heap to prioritize smaller cost paths.\n",
    "\n",
    "- Push (cost, node) into heap.\n",
    "\n",
    "- Complexity: O(E log V)\n",
    "\n",
    "✅ 3. Merging K Sorted Lists\n",
    "- Push head of each list into heap.\n",
    "\n",
    "- Pop and push next from same list.\n",
    "\n",
    "- Efficient due to O(log k) pop/push.\n",
    "\n",
    "✅ 4. Find Median from Data Stream\n",
    "- Use 2 heaps: min-heap + max-heap (as negated min-heap).\n",
    "\n",
    "- Balance both heaps to track median in O(log n) time.\n",
    "\n",
    "✅ 5. Huffman Encoding Tree\n",
    "- Greedy algo based on combining lowest frequencies.\n",
    "\n",
    "- Heap maintains minimum-frequency symbols.\n",
    "\n",
    "✅ 6. Task Scheduling\n",
    "- Push available jobs (with cost/time) into heap.\n",
    "\n",
    "- Simulate greedy decisions efficiently."
   ]
  },
  {
   "cell_type": "markdown",
   "id": "6606e31a",
   "metadata": {},
   "source": [
    "🛑 Common Pitfalls\n",
    "| Mistake                             | Fix                                      |\n",
    "| ----------------------------------- | ---------------------------------------- |\n",
    "| Forgetting to negate for max-heap   | Use `-val` and `-heapq.heappop()`        |\n",
    "| Using `heapq` with objects directly | Push `(key, object)` tuples              |\n",
    "| Expecting sorted list from `heap`   | Use `sorted()` or repeatedly `heappop()` |\n"
   ]
  },
  {
   "cell_type": "markdown",
   "id": "4f124c66",
   "metadata": {},
   "source": [
    "🧠 Visual Understanding\n",
    "\n",
    "- Binary heap: complete binary tree → implemented as array\n",
    "\n",
    "- parent(i) = (i-1)//2, left = 2*i+1, right = 2*i+2\n",
    "\n",
    "- heapify ensures heap property in O(n) using bottom-up\n",
    "\n"
   ]
  },
  {
   "cell_type": "markdown",
   "id": "7dcc0288",
   "metadata": {},
   "source": [
    "🧭 Summary Table\n",
    "| Problem Type          | Heap Usage Strategy                 |\n",
    "| --------------------- | ----------------------------------- |\n",
    "| Kth largest/smallest  | Min-heap/Max-heap of size `k`       |\n",
    "| Top K frequent        | Counter + Min-heap of `(freq, val)` |\n",
    "| Dijkstra / Prim's     | Min-heap of `(distance, node)`      |\n",
    "| Huffman Encoding Tree | Greedy pair merging with heap       |\n",
    "| Merging sorted lists  | Push tuple `(val, list_index)`      |\n",
    "| Median Finder         | Two heaps (min+max) to track median |\n"
   ]
  },
  {
   "cell_type": "markdown",
   "id": "be1cf703",
   "metadata": {},
   "source": []
  }
 ],
 "metadata": {
  "kernelspec": {
   "display_name": ".venv",
   "language": "python",
   "name": "python3"
  },
  "language_info": {
   "codemirror_mode": {
    "name": "ipython",
    "version": 3
   },
   "file_extension": ".py",
   "mimetype": "text/x-python",
   "name": "python",
   "nbconvert_exporter": "python",
   "pygments_lexer": "ipython3",
   "version": "3.12.3"
  }
 },
 "nbformat": 4,
 "nbformat_minor": 5
}
