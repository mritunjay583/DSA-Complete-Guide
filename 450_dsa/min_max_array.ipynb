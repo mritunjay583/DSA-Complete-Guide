{
 "cells": [
  {
   "cell_type": "code",
   "execution_count": null,
   "id": "f7cfd4a0",
   "metadata": {},
   "outputs": [],
   "source": []
  },
  {
   "cell_type": "markdown",
   "id": "9039c3cd",
   "metadata": {},
   "source": [
    "| Concept                | What to Use                                    |\n",
    "| ---------------------- | ---------------------------------------------- |\n",
    "| Mid formula            | `mid = start + (end - start) // 2`             |\n",
    "| Base condition         | `if start > end: return`                       |\n",
    "| When to stop splitting | When segment is invalid (start > end)          |\n",
    "| Minimum segment        | When `start == end` → one element, still valid |\n",
    "|Left half               |`your_function(arr, start, mid)`|\n",
    "|Right half\t             |`your_function(arr, mid + 1, end)`|"
   ]
  },
  {
   "cell_type": "code",
   "execution_count": 6,
   "id": "368c9dfa",
   "metadata": {},
   "outputs": [],
   "source": [
    "max_num = float('-inf')\n",
    "min_num = float('inf')"
   ]
  },
  {
   "cell_type": "code",
   "execution_count": 1,
   "id": "207af4fe",
   "metadata": {},
   "outputs": [],
   "source": [
    "# Example combine functions\n",
    "def combine_min(a, b):\n",
    "    return min(a, b)\n",
    "\n",
    "def combine_max(a, b):\n",
    "    return max(a, b)\n",
    "\n",
    "def divide_and_conquer(arr, start, end):\n",
    "    # Base condition (very important)\n",
    "    if start > end:\n",
    "        return  # or return something meaningful like float('inf') or -1\n",
    "\n",
    "    # If single element, handle it (can be optional based on your use-case)\n",
    "    if start == end:\n",
    "        return arr[start]\n",
    "\n",
    "    # Calculate mid safely\n",
    "    mid = start + (end - start) // 2\n",
    "\n",
    "    # Recursively process left and right halves\n",
    "    left_result = divide_and_conquer(arr, start, mid)\n",
    "    right_result = divide_and_conquer(arr, mid + 1, end)\n",
    "\n",
    "    # Combine results — depends on your use case\n",
    "    result = combine(left_result, right_result)\n",
    "\n",
    "    return result\n"
   ]
  },
  {
   "cell_type": "code",
   "execution_count": 2,
   "id": "c61e2536",
   "metadata": {},
   "outputs": [],
   "source": [
    "def find_min(arr, start, end):\n",
    "    if start > end:\n",
    "        return float('inf')\n",
    "\n",
    "    if start == end:\n",
    "        return arr[start]\n",
    "\n",
    "    mid = start + (end - start) // 2\n",
    "\n",
    "    left_min = find_min(arr, start, mid)\n",
    "    right_min = find_min(arr, mid + 1, end)\n",
    "\n",
    "    return min(left_min, right_min)\n"
   ]
  },
  {
   "cell_type": "code",
   "execution_count": 3,
   "id": "bf6b2bc1",
   "metadata": {},
   "outputs": [],
   "source": [
    "def find_max(arr, start, end):\n",
    "    if start > end:\n",
    "        return float('-inf')\n",
    "\n",
    "    if start == end:\n",
    "        return arr[start]\n",
    "\n",
    "    mid = start + (end - start) // 2\n",
    "\n",
    "    left_max = find_max(arr, start, mid)\n",
    "    right_max = find_max(arr, mid + 1, end)\n",
    "\n",
    "    return max(left_max, right_max)\n"
   ]
  },
  {
   "cell_type": "code",
   "execution_count": 4,
   "id": "7270ae80",
   "metadata": {},
   "outputs": [],
   "source": [
    "def binary_search(arr, start, end, target):\n",
    "    if start > end:\n",
    "        return -1\n",
    "\n",
    "    mid = start + (end - start) // 2\n",
    "\n",
    "    if arr[mid] == target:\n",
    "        return mid\n",
    "    elif arr[mid] < target:\n",
    "        return binary_search(arr, mid + 1, end, target)\n",
    "    else:\n",
    "        return binary_search(arr, start, mid - 1, target)\n"
   ]
  },
  {
   "cell_type": "code",
   "execution_count": null,
   "id": "d4e92fdc",
   "metadata": {},
   "outputs": [],
   "source": []
  }
 ],
 "metadata": {
  "kernelspec": {
   "display_name": ".venv",
   "language": "python",
   "name": "python3"
  },
  "language_info": {
   "codemirror_mode": {
    "name": "ipython",
    "version": 3
   },
   "file_extension": ".py",
   "mimetype": "text/x-python",
   "name": "python",
   "nbconvert_exporter": "python",
   "pygments_lexer": "ipython3",
   "version": "3.12.3"
  }
 },
 "nbformat": 4,
 "nbformat_minor": 5
}
