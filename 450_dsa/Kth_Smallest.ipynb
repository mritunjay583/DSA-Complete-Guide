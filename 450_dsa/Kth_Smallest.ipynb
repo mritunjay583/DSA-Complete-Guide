{
 "cells": [
  {
   "cell_type": "code",
   "execution_count": 2,
   "id": "84ef4e58",
   "metadata": {},
   "outputs": [
    {
     "name": "stdout",
     "output_type": "stream",
     "text": [
      "[1, 3, 5, 9]\n"
     ]
    }
   ],
   "source": [
    "nums = [5, 3, 9, 1]\n",
    "sorted_nums = sorted(nums)  # Ascending order\n",
    "print(sorted_nums)  # [1, 3, 5, 9]\n"
   ]
  },
  {
   "cell_type": "code",
   "execution_count": 3,
   "id": "8c03646e",
   "metadata": {},
   "outputs": [
    {
     "name": "stdout",
     "output_type": "stream",
     "text": [
      "[9, 5, 3, 1]\n"
     ]
    }
   ],
   "source": [
    "sorted_nums_desc = sorted(nums, reverse=True)\n",
    "print(sorted_nums_desc)  # [9, 5, 3, 1]\n"
   ]
  },
  {
   "cell_type": "code",
   "execution_count": 4,
   "id": "7be5b04b",
   "metadata": {},
   "outputs": [
    {
     "name": "stdout",
     "output_type": "stream",
     "text": [
      "[1, 3, 5, 9]\n"
     ]
    }
   ],
   "source": [
    "nums = [5, 3, 9, 1]\n",
    "nums.sort()\n",
    "print(nums)  # [1, 3, 5, 9]\n"
   ]
  },
  {
   "cell_type": "code",
   "execution_count": 5,
   "id": "944fd7ef",
   "metadata": {},
   "outputs": [
    {
     "name": "stdout",
     "output_type": "stream",
     "text": [
      "[9, 5, 3, 1]\n"
     ]
    }
   ],
   "source": [
    "nums.sort(reverse=True)\n",
    "print(nums)  # [9, 5, 3, 1]\n"
   ]
  },
  {
   "cell_type": "code",
   "execution_count": 6,
   "id": "4d7fe492",
   "metadata": {},
   "outputs": [
    {
     "name": "stdout",
     "output_type": "stream",
     "text": [
      "['date', 'apple', 'banana', 'cherry']\n"
     ]
    }
   ],
   "source": [
    "words = ['apple', 'banana', 'cherry', 'date']\n",
    "words.sort(key=len)  # Sort by length of each word\n",
    "print(words)  # ['date', 'apple', 'banana', 'cherry']\n"
   ]
  },
  {
   "cell_type": "code",
   "execution_count": 7,
   "id": "32af2e80",
   "metadata": {},
   "outputs": [
    {
     "name": "stdout",
     "output_type": "stream",
     "text": [
      "[(4, 1), (2, 2), (1, 3)]\n"
     ]
    }
   ],
   "source": [
    "pairs = [(1, 3), (2, 2), (4, 1)]\n",
    "pairs.sort(key=lambda x: x[1])\n",
    "print(pairs)  # [(4, 1), (2, 2), (1, 3)]\n"
   ]
  },
  {
   "cell_type": "code",
   "execution_count": 8,
   "id": "139e2007",
   "metadata": {},
   "outputs": [
    {
     "name": "stdout",
     "output_type": "stream",
     "text": [
      "[{'name': 'Alice', 'age': 22}, {'name': 'Alice', 'age': 25}, {'name': 'Bob', 'age': 20}]\n"
     ]
    }
   ],
   "source": [
    "people = [\n",
    "    {\"name\": \"Alice\", \"age\": 25},\n",
    "    {\"name\": \"Bob\", \"age\": 20},\n",
    "    {\"name\": \"Alice\", \"age\": 22}\n",
    "]\n",
    "\n",
    "# Sort by name, then age\n",
    "people.sort(key=lambda x: (x[\"name\"], x[\"age\"]))\n",
    "print(people)\n"
   ]
  },
  {
   "cell_type": "code",
   "execution_count": 9,
   "id": "0908ef4c",
   "metadata": {},
   "outputs": [
    {
     "name": "stdout",
     "output_type": "stream",
     "text": [
      "[(2, 'b'), (3, 'a'), (3, 'c')]\n"
     ]
    }
   ],
   "source": [
    "arr = [(3, 'a'), (2, 'b'), (3, 'c')]\n",
    "arr.sort(key=lambda x: x[0])\n",
    "print(arr)  # (3, 'a') will come before (3, 'c') – order preserved\n"
   ]
  },
  {
   "cell_type": "code",
   "execution_count": 10,
   "id": "e7923c52",
   "metadata": {},
   "outputs": [
    {
     "name": "stdout",
     "output_type": "stream",
     "text": [
      "[2, 2, 2, 4, 4, 1, 3]\n"
     ]
    }
   ],
   "source": [
    "from collections import Counter\n",
    "\n",
    "nums = [4, 4, 1, 2, 2, 2, 3]\n",
    "counts = Counter(nums)\n",
    "\n",
    "# Sort by frequency descending, then value ascending\n",
    "nums.sort(key=lambda x: (-counts[x], x))\n",
    "print(nums)  # [2, 2, 2, 4, 4, 1, 3]\n"
   ]
  },
  {
   "cell_type": "code",
   "execution_count": null,
   "id": "b1883220",
   "metadata": {},
   "outputs": [],
   "source": []
  }
 ],
 "metadata": {
  "kernelspec": {
   "display_name": ".venv",
   "language": "python",
   "name": "python3"
  },
  "language_info": {
   "codemirror_mode": {
    "name": "ipython",
    "version": 3
   },
   "file_extension": ".py",
   "mimetype": "text/x-python",
   "name": "python",
   "nbconvert_exporter": "python",
   "pygments_lexer": "ipython3",
   "version": "3.12.3"
  }
 },
 "nbformat": 4,
 "nbformat_minor": 5
}
