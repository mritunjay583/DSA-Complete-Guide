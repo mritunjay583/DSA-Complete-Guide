{
 "cells": [
  {
   "cell_type": "markdown",
   "id": "8e70ff26",
   "metadata": {},
   "source": [
    "#### Deque stands for Double-Ended Queue. \n",
    "\n",
    "It's a generalization of stacks and queues that allows:\n",
    "1. Fast appends and pops from both ends **(O(1) time complexity)**\n",
    "2. Much more efficient than a list for these operations"
   ]
  },
  {
   "cell_type": "markdown",
   "id": "67fe1a98",
   "metadata": {},
   "source": [
    "Importing"
   ]
  },
  {
   "cell_type": "code",
   "execution_count": null,
   "id": "c9386c05",
   "metadata": {},
   "outputs": [],
   "source": [
    "from collections import deque"
   ]
  },
  {
   "cell_type": "markdown",
   "id": "59b75c71",
   "metadata": {},
   "source": [
    "Initialization"
   ]
  },
  {
   "cell_type": "code",
   "execution_count": 4,
   "id": "af102f75",
   "metadata": {},
   "outputs": [],
   "source": [
    "dq = deque()  # empty deque\n",
    "dq = deque([1, 2, 3])  # deque with elements\n",
    "dq = deque([1, 2, 3], maxlen=5)  # bounded deque (auto-pops when full)"
   ]
  },
  {
   "cell_type": "markdown",
   "id": "ef3bc509",
   "metadata": {},
   "source": [
    "| Operation               | Syntax                  | Time Complexity | Notes                 |\n",
    "| ----------------------- | ----------------------- | --------------- | --------------------- |\n",
    "| Append to right         | `dq.append(x)`          | `O(1)`          | Like enqueue          |\n",
    "| Append to left          | `dq.appendleft(x)`      | `O(1)`          | Like stack push       |\n",
    "| Pop from right          | `dq.pop()`              | `O(1)`          | Like stack pop        |\n",
    "| Pop from left           | `dq.popleft()`          | `O(1)`          | Like dequeue          |\n",
    "| Peek left / right       | `dq[0]`, `dq[-1]`       | `O(1)`          | Access front/back     |\n",
    "| Extend right            | `dq.extend([x, y])`     | `O(k)`          | Add multiple          |\n",
    "| Extend left             | `dq.extendleft([x, y])` | `O(k)`          | Adds in reverse order |\n",
    "| Rotate                  | `dq.rotate(n)`          | `O(k)`          | Rotate elements       |\n",
    "| Length                  | `len(dq)`               | `O(1)`          | Size of deque         |\n",
    "| Check membership        | `x in dq`               | `O(n)`          | Linear search         |\n",
    "| Remove first occurrence | `dq.remove(x)`          | `O(n)`          | Searches and removes  |\n",
    "| Clear all elements      | `dq.clear()`            | `O(1)`          | Reset deque           |\n"
   ]
  },
  {
   "cell_type": "markdown",
   "id": "b1b6f8e1",
   "metadata": {},
   "source": [
    "### 💡 Use Cases in DSA\n",
    "1. Sliding Window Maximum/Minimum\n",
    "\n",
    "Efficiently track max/min in a sliding window (O(n)).\n",
    "\n",
    "2. Implement Stack or Queue Efficiently\n",
    "\n",
    "```python\n",
    "# Stack\n",
    "dq.append(x)\n",
    "dq.pop()\n",
    "\n",
    "# Queue\n",
    "dq.append(x)\n",
    "dq.popleft()\n",
    "```\n",
    "3. Palindrome Checker\n",
    "\n",
    "```python\n",
    "dq = deque(\"racecar\")\n",
    "while len(dq) > 1:\n",
    "    if dq.popleft() != dq.pop():\n",
    "        print(\"Not palindrome\")\n",
    "```\n",
    "\n",
    "4. Topological Sorting (BFS)\n",
    "\n",
    "Used as a queue for graph traversal.\n",
    "\n",
    "\n"
   ]
  },
  {
   "cell_type": "markdown",
   "id": "6cbd5aa8",
   "metadata": {},
   "source": [
    "### List VS Deque\n",
    "1. Python’s list is a dynamic array\n",
    "    - append() and pop() on the end are O(1)\n",
    "    - But insert(0, x) and pop(0) are O(n) because of shifting\n",
    "2. deque is a doubly linked list under the hood (actually a block-linked list), allowing:\n",
    "    - Constant time insertions/deletions from both ends\n",
    "    - But random access (dq[i]) is still O(n), unlike lists\n",
    "\n",
    "| Feature             | `list` | `deque` |\n",
    "| ------------------- | ------ | ------- |\n",
    "| Append at end       | `O(1)` | `O(1)`  |\n",
    "| Pop from end        | `O(1)` | `O(1)`  |\n",
    "| Insert at beginning | `O(n)` | `O(1)`  |\n",
    "| Pop from beginning  | `O(n)` | `O(1)`  |\n",
    "| Random access       | `O(1)` | `O(n)`  |\n"
   ]
  },
  {
   "cell_type": "markdown",
   "id": "42c48c03",
   "metadata": {},
   "source": [
    "| Week | Problem Title                                 | Platform        | Key Concept                        | Deque Usage Pattern                   | Link |\n",
    "|------|-----------------------------------------------|-----------------|-------------------------------------|----------------------------------------|------|\n",
    "| 1    | Sliding Window Maximum                        | LeetCode 239    | Monotonic Queue                    | Decreasing deque of indices            | https://leetcode.com/problems/sliding-window-maximum/ |\n",
    "| 2    | First Negative Number in Every Window of Size K | GfG             | Sliding Window                     | Track indices of negative numbers      | https://www.geeksforgeeks.org/problems/first-negative-integer-in-every-window-of-size-k3345/1 |\n",
    "| 3    | Rotting Oranges                                | LeetCode 994    | Multi-source BFS                   | Queue of rotten oranges                | https://leetcode.com/problems/rotting-oranges/ |\n",
    "| 4    | Sliding Window Median                          | LeetCode 480    | Median in window (heaps + deque)  | Track elements and clean old indices   | https://leetcode.com/problems/sliding-window-median/ |\n",
    "| 5    | Shortest Subarray with Sum ≥ K                 | LeetCode 862    | Prefix Sum + Monotonic Queue      | Increasing deque of prefix sums        | https://leetcode.com/problems/shortest-subarray-with-sum-at-least-k/ |\n",
    "| 6    | Valid Palindrome (Deque-based)                 | LeetCode 125    | String two-pointer                 | Compare `popleft()` with `pop()`       | https://leetcode.com/problems/valid-palindrome/ |\n",
    "| 7    | Design Circular Deque                          | LeetCode 641    | Design/Simulation                  | Full deque API (insert, delete ends)   | https://leetcode.com/problems/design-circular-deque/ |\n",
    "| 8    | Shortest Path in Binary Matrix                 | LeetCode 1091   | BFS in 2D grid                     | Multi-directional BFS                  | https://leetcode.com/problems/shortest-path-in-binary-matrix/ |\n",
    "| 9    | Minimum Window Substring                       | LeetCode 76     | Sliding Window + Hash Count       | Track start/end of valid windows       | https://leetcode.com/problems/minimum-window-substring/ |\n",
    "| 10   | Binary Tree Level Order Traversal              | LeetCode 102    | BFS Level-order                    | Standard queue-based BFS               | https://leetcode.com/problems/binary-tree-level-order-traversal/ |\n"
   ]
  },
  {
   "cell_type": "code",
   "execution_count": null,
   "id": "75c72f9f",
   "metadata": {},
   "outputs": [
    {
     "ename": "SyntaxError",
     "evalue": "invalid character '≥' (U+2265) (921552488.py, line 7)",
     "output_type": "error",
     "traceback": [
      "  \u001b[36mCell\u001b[39m\u001b[36m \u001b[39m\u001b[32mIn[6]\u001b[39m\u001b[32m, line 7\u001b[39m\n\u001b[31m    \u001b[39m\u001b[31m| 5    | Shortest Subarray with Sum ≥ K                 | LeetCode 862    | Prefix Sum + Monotonic Queue      | Increasing deque of prefix sums        | https://leetcode.com/problems/shortest-subarray-with-sum-at-least-k/ |\u001b[39m\n                                        ^\n\u001b[31mSyntaxError\u001b[39m\u001b[31m:\u001b[39m invalid character '≥' (U+2265)\n"
     ]
    }
   ],
   "source": []
  }
 ],
 "metadata": {
  "kernelspec": {
   "display_name": ".venv",
   "language": "python",
   "name": "python3"
  },
  "language_info": {
   "codemirror_mode": {
    "name": "ipython",
    "version": 3
   },
   "file_extension": ".py",
   "mimetype": "text/x-python",
   "name": "python",
   "nbconvert_exporter": "python",
   "pygments_lexer": "ipython3",
   "version": "3.12.3"
  }
 },
 "nbformat": 4,
 "nbformat_minor": 5
}
